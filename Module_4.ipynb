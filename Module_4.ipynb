{
  "nbformat": 4,
  "nbformat_minor": 0,
  "metadata": {
    "colab": {
      "provenance": []
    },
    "kernelspec": {
      "name": "python3",
      "display_name": "Python 3"
    },
    "language_info": {
      "name": "python"
    }
  },
  "cells": [
    {
      "cell_type": "markdown",
      "source": [
        "1.What are data structures, and why are they important ?\n",
        "  * Data structures are fundamental ways to organize and store data efficiently, enabling computers to process and manipulate information effectively. They are important because they allow for optimized code, easier understanding, and efficient storage and retrieval of data."
      ],
      "metadata": {
        "id": "n73N92102Jq0"
      }
    },
    {
      "cell_type": "markdown",
      "source": [
        "2. Explain the difference between mutable and immutable data types with examples\n",
        "\n",
        "* Mutable Data Type – A mutable data type is one whose values can be changed.\n",
        "Example: List, Dictionaries, and Set\n",
        "\n",
        "Immutable Data Type – An immutable data type is one in which the values can’t be changed or altered.\n",
        "Example: String and Tuples  "
      ],
      "metadata": {
        "id": "qMAm-8_T2M8a"
      }
    },
    {
      "cell_type": "markdown",
      "source": [
        "  3.What are the main differences between lists and tuples in Python\n",
        "  \n",
        "  *  In Python, lists are mutable (changeable) ordered collections, while tuples are immutable (unchangeable) ordered collections, making them suitable for different use cases, such as storing dynamic data (lists) or fixed data (tuples)"
      ],
      "metadata": {
        "id": "xE_IZ_IB2Sfn"
      }
    },
    {
      "cell_type": "markdown",
      "source": [
        "4.Describe how dictionaries store data\n",
        "*  Dictionaries are used to store data values in key:value pairs."
      ],
      "metadata": {
        "id": "g0UvRq9n2hhL"
      }
    },
    {
      "cell_type": "markdown",
      "source": [
        "5.Why might you use a set instead of a list in Python\n",
        "*  Because sets cannot have multiple occurrences of the same element, it makes sets highly useful to efficiently remove duplicate values from a list or tuple and to perform common math operations like unions and intersections."
      ],
      "metadata": {
        "id": "VwnOhv3p2lsl"
      }
    },
    {
      "cell_type": "markdown",
      "source": [
        "6.What is a string in Python, and how is it different from a list\n",
        "*  In Python, a string is an immutable sequence of characters enclosed in single or double quotes, while a list is a mutable, ordered collection of items enclosed in square brackets."
      ],
      "metadata": {
        "id": "_9EBpvXL2p8K"
      }
    },
    {
      "cell_type": "markdown",
      "source": [
        "7.How do tuples ensure data integrity in Python\n",
        "*  Tuples are immutable to ensure that their contents remain constant throughout their lifecycle."
      ],
      "metadata": {
        "id": "p277KvvK2v1q"
      }
    },
    {
      "cell_type": "markdown",
      "source": [
        "8.What is a hash table, and how does it relate to dictionaries in Python\n",
        "*  A hash table is a data structure that stores key-value pairs, using a hash function to map keys to indices in an array (or \"buckets\") for fast lookups, and Python dictionaries are built upon hash tables."
      ],
      "metadata": {
        "id": "CNZAqARL2z2d"
      }
    },
    {
      "cell_type": "markdown",
      "source": [
        "9.Can lists contain different data types in Python\n",
        "*  Although it's not really common, a list can also contain a mix of Python types including strings, floats, and booleans."
      ],
      "metadata": {
        "id": "qr_YurFP279Z"
      }
    },
    {
      "cell_type": "markdown",
      "source": [
        "10.Explain why strings are immutable in Python\n",
        "*  Python strings are \"immutable\" which means they cannot be changed after they are created."
      ],
      "metadata": {
        "id": "5Tr1m9kf3Ac3"
      }
    },
    {
      "cell_type": "markdown",
      "source": [
        "11.What advantages do dictionaries offer over lists for certain tasks\n",
        "*  Dictionaries excel over lists for tasks requiring fast data retrieval and organization by keys, while lists are better for ordered collections and sequence operations.\n"
      ],
      "metadata": {
        "id": "RyAmM28x3Fsw"
      }
    },
    {
      "cell_type": "markdown",
      "source": [
        "12.Describe a scenario where using a tuple would be preferable over a list\n",
        "*  Use a tuple if you need an immutable collection where the elements won't change after creation. Tuples are generally faster and more memory-efficient than lists."
      ],
      "metadata": {
        "id": "KDMUDl6d3J23"
      }
    },
    {
      "cell_type": "markdown",
      "source": [
        "13.How do sets handle duplicate values in Python\n",
        "*  Items of a set in python are immutable, do not duplicate values, and unordered."
      ],
      "metadata": {
        "id": "nvNAM9033cZr"
      }
    },
    {
      "cell_type": "markdown",
      "source": [
        "14. How does the “in” keyword work differently for lists and dictionaries\n",
        "*  The in operator in Python checks if a specified value exists within a sequence, such as a list, tuple, or string."
      ],
      "metadata": {
        "id": "b3mlF7MS3hVR"
      }
    },
    {
      "cell_type": "markdown",
      "source": [
        "15.Can you modify the elements of a tuple? Explain why or why not\n",
        "*  No, you cannot directly modify the elements of a tuple in Python because tuples are immutable, meaning their contents cannot be changed after creation."
      ],
      "metadata": {
        "id": "1ZiQuuKK3lRE"
      }
    },
    {
      "cell_type": "markdown",
      "source": [
        "16.What is a nested dictionary, and give an example of its use case\n",
        "*  A nested dictionary is a dictionary where the values are themselves dictionaries, allowing for hierarchical data organization.\n",
        "*   A use case is representing employee records, where each employee's details are stored in a nested dictionary, organized by department."
      ],
      "metadata": {
        "id": "kci3YB9N3poM"
      }
    },
    {
      "cell_type": "markdown",
      "source": [
        "17. Describe the time complexity of accessing elements in a dictionary\n",
        "*  Accessing elements in a dictionary (or hash map) by key has an average time complexity of O(1), meaning it takes constant time, regardless of the dictionary's size"
      ],
      "metadata": {
        "id": "N71in2rE3vZK"
      }
    },
    {
      "cell_type": "markdown",
      "source": [
        "18.In what situations are lists preferred over dictionaries\n",
        "*  For quick data look-ups, configurations, or caches, favor dictionaries. For ordered collections and sequence operations, such as maintaining a stack or queue, lists are more suitable."
      ],
      "metadata": {
        "id": "qBAZRoBd3zvx"
      }
    },
    {
      "cell_type": "markdown",
      "source": [
        "19. Why are dictionaries considered unordered, and how does that affect data retrieval.\n",
        "*  Dictionaries are considered unordered because they don't maintain a specific order for their key-value pairs, meaning the order of insertion is not preserved, and retrieval is based on keys, not position."
      ],
      "metadata": {
        "id": "CYecPF0M34NK"
      }
    },
    {
      "cell_type": "markdown",
      "source": [
        "20.Explain the difference between a list and a dictionary in terms of data retrieval.\n",
        "*  In terms of data retrieval, lists use integer indices (starting from 0) to access elements, while dictionaries use keys to access associated values, offering faster lookups for specific data based on those keys."
      ],
      "metadata": {
        "id": "J7lyOVoy38Cs"
      }
    },
    {
      "cell_type": "markdown",
      "source": [
        "1.Write a code to create a string with your name and print it."
      ],
      "metadata": {
        "id": "HDbGdbDb_OZZ"
      }
    },
    {
      "cell_type": "code",
      "source": [
        "print('Likith Kumar')"
      ],
      "metadata": {
        "colab": {
          "base_uri": "https://localhost:8080/"
        },
        "id": "Wlf347dt_Muo",
        "outputId": "f4321d2f-dab2-4f6f-c527-91c728d02fea"
      },
      "execution_count": 2,
      "outputs": [
        {
          "output_type": "stream",
          "name": "stdout",
          "text": [
            "Likith Kumar\n"
          ]
        }
      ]
    },
    {
      "cell_type": "markdown",
      "source": [
        "2.Write a code to find the length of the string \"Hello World\""
      ],
      "metadata": {
        "id": "FEthbUAcAXOy"
      }
    },
    {
      "cell_type": "code",
      "source": [
        "a = \"Hello World\"\n",
        "print(len(a))\n"
      ],
      "metadata": {
        "colab": {
          "base_uri": "https://localhost:8080/"
        },
        "id": "XlSwtPZD_8OI",
        "outputId": "7cf84c01-b777-4376-8b6d-9d7f9e296e88"
      },
      "execution_count": 4,
      "outputs": [
        {
          "output_type": "stream",
          "name": "stdout",
          "text": [
            "11\n"
          ]
        }
      ]
    },
    {
      "cell_type": "markdown",
      "source": [
        "3. Write a code to slice the first 3 characters from the string \"Python Programming\""
      ],
      "metadata": {
        "id": "-DxCZunpAlD1"
      }
    },
    {
      "cell_type": "code",
      "source": [
        "s = \"Python Programming\"\n",
        "s1 = s[0:3]\n",
        "print(s1)\n",
        "\n"
      ],
      "metadata": {
        "colab": {
          "base_uri": "https://localhost:8080/"
        },
        "id": "2Jk1fb7FAqaO",
        "outputId": "4a331f9a-d898-4719-b404-2df74f5ed34d"
      },
      "execution_count": 8,
      "outputs": [
        {
          "output_type": "stream",
          "name": "stdout",
          "text": [
            "Pyt\n"
          ]
        }
      ]
    },
    {
      "cell_type": "markdown",
      "source": [
        "4. Write a code to convert the string \"hello\" to uppercase"
      ],
      "metadata": {
        "id": "-OEwTUvbBAmG"
      }
    },
    {
      "cell_type": "code",
      "source": [
        "s = \"hello\"\n",
        "res = s.upper()\n",
        "print(res)"
      ],
      "metadata": {
        "colab": {
          "base_uri": "https://localhost:8080/"
        },
        "id": "S2atwUshBU-m",
        "outputId": "eb80e152-41b8-4edf-fdc7-4c2ec2fa9f41"
      },
      "execution_count": 9,
      "outputs": [
        {
          "output_type": "stream",
          "name": "stdout",
          "text": [
            "HELLO\n"
          ]
        }
      ]
    },
    {
      "cell_type": "markdown",
      "source": [
        "5.Write a code to replace the word \"apple\" with \"orange\" in the string \"I like apple\""
      ],
      "metadata": {
        "id": "Jm8Y7LAKBZfI"
      }
    },
    {
      "cell_type": "code",
      "source": [
        "my_string = \"I like apple\"\n",
        "new_string = my_string.replace(\"apple\", \"orange\")\n",
        "print(new_string)"
      ],
      "metadata": {
        "colab": {
          "base_uri": "https://localhost:8080/"
        },
        "id": "zk9uZXatBjms",
        "outputId": "88f1c550-326b-4cbe-d059-517c6dc248c3"
      },
      "execution_count": 10,
      "outputs": [
        {
          "output_type": "stream",
          "name": "stdout",
          "text": [
            "I like orange\n"
          ]
        }
      ]
    },
    {
      "cell_type": "markdown",
      "source": [
        "6.Write a code to create a list with numbers 1 to 5 and print it."
      ],
      "metadata": {
        "id": "jCHFxmwBB5ry"
      }
    },
    {
      "cell_type": "code",
      "source": [
        "r1 = 1 # range 1\n",
        "r2 = 6 # range 2\n",
        "\n",
        "li = list(range(r1,r2))\n",
        "print(li)"
      ],
      "metadata": {
        "colab": {
          "base_uri": "https://localhost:8080/"
        },
        "id": "5AJdjfMXB_I8",
        "outputId": "8dc9535a-9466-479e-9e82-87f6d583dfac"
      },
      "execution_count": 13,
      "outputs": [
        {
          "output_type": "stream",
          "name": "stdout",
          "text": [
            "[1, 2, 3, 4, 5]\n"
          ]
        }
      ]
    },
    {
      "cell_type": "markdown",
      "source": [
        "7.Write a code to append the number 10 to the list [1, 2, 3, 4]"
      ],
      "metadata": {
        "id": "RSNCNoLLCew9"
      }
    },
    {
      "cell_type": "code",
      "source": [
        "input = [1, 2, 3, 4,]\n",
        "key = 10\n",
        "\n",
        "result = []\n",
        "for ele in input:\n",
        "    result.append(ele)\n",
        "    result.append(key)\n",
        "\n",
        "print(result)"
      ],
      "metadata": {
        "colab": {
          "base_uri": "https://localhost:8080/"
        },
        "id": "GQzcPLIWCkJq",
        "outputId": "0269d0d2-112e-4869-dbfc-01d308449288"
      },
      "execution_count": 14,
      "outputs": [
        {
          "output_type": "stream",
          "name": "stdout",
          "text": [
            "[1, 10, 2, 10, 3, 10, 4, 10]\n"
          ]
        }
      ]
    },
    {
      "cell_type": "markdown",
      "source": [
        "8.Write a code to remove the number 3 from the list [1, 2, 3, 4, 5]"
      ],
      "metadata": {
        "id": "lyF_TGUtDSjo"
      }
    },
    {
      "cell_type": "code",
      "source": [
        "Input = [1, 2, 3, 4, 5,]\n",
        "no_delete =[3]\n",
        "\n",
        "result = [i for i in Input if i not in no_delete]\n",
        "\n",
        "print(result)\n",
        "\n"
      ],
      "metadata": {
        "colab": {
          "base_uri": "https://localhost:8080/"
        },
        "id": "QqnIpmijDXlK",
        "outputId": "50094d4f-0f06-4fa0-9ea7-ad8710fce0da"
      },
      "execution_count": 18,
      "outputs": [
        {
          "output_type": "stream",
          "name": "stdout",
          "text": [
            "[1, 2, 4, 5]\n"
          ]
        }
      ]
    },
    {
      "cell_type": "markdown",
      "source": [
        "9.Write a code to access the second element in the list ['a', 'b', 'c', 'd']"
      ],
      "metadata": {
        "id": "2b30AIdQECyt"
      }
    },
    {
      "cell_type": "code",
      "source": [
        "Input = ['a','b','c','d']\n",
        "pirnt = Input[1]\n",
        "print(pirnt)\n",
        ""
      ],
      "metadata": {
        "colab": {
          "base_uri": "https://localhost:8080/"
        },
        "id": "NLRBEjWREHR6",
        "outputId": "50cedaac-da29-44be-d4ee-9c7dc4336fa3"
      },
      "execution_count": 25,
      "outputs": [
        {
          "output_type": "stream",
          "name": "stdout",
          "text": [
            "b\n"
          ]
        }
      ]
    },
    {
      "cell_type": "markdown",
      "source": [
        "10.Write a code to reverse the list [10, 20, 30, 40, 50]."
      ],
      "metadata": {
        "id": "62S1jONYFv0e"
      }
    },
    {
      "cell_type": "code",
      "source": [
        "a = [1, 2, 3, 4, 5]\n",
        "\n",
        "a.reverse()\n",
        "print(a)"
      ],
      "metadata": {
        "colab": {
          "base_uri": "https://localhost:8080/"
        },
        "id": "98pbkuivFzwP",
        "outputId": "ccafcaa3-94f1-40b3-ed19-722937bc95ef"
      },
      "execution_count": 26,
      "outputs": [
        {
          "output_type": "stream",
          "name": "stdout",
          "text": [
            "[5, 4, 3, 2, 1]\n"
          ]
        }
      ]
    },
    {
      "cell_type": "markdown",
      "source": [
        "11. Write a code to create a tuple with the elements 100, 200, 300 and print it."
      ],
      "metadata": {
        "id": "zbXpWWEJGBSD"
      }
    },
    {
      "cell_type": "code",
      "source": [
        "my_tuple = (100, 200, 300)\n",
        "print(my_tuple)"
      ],
      "metadata": {
        "colab": {
          "base_uri": "https://localhost:8080/"
        },
        "id": "NaB-4ml3GFVo",
        "outputId": "ee8ccc86-1a93-4364-9f25-b35e08990852"
      },
      "execution_count": 27,
      "outputs": [
        {
          "output_type": "stream",
          "name": "stdout",
          "text": [
            "(100, 200, 300)\n"
          ]
        }
      ]
    },
    {
      "cell_type": "markdown",
      "source": [
        "12.Write a code to access the second-to-last element of the tuple ('red', 'green', 'blue', 'yellow')."
      ],
      "metadata": {
        "id": "AUZzyw8xGaqD"
      }
    },
    {
      "cell_type": "code",
      "source": [
        "Colors = ('red', 'green', 'blue', 'yellow')\n",
        "print(Colors[-2])"
      ],
      "metadata": {
        "colab": {
          "base_uri": "https://localhost:8080/"
        },
        "id": "c0Sr3Q7-GekA",
        "outputId": "09d01860-57d7-4bb1-c384-eab26846fcaa"
      },
      "execution_count": 32,
      "outputs": [
        {
          "output_type": "stream",
          "name": "stdout",
          "text": [
            "blue\n"
          ]
        }
      ]
    },
    {
      "cell_type": "markdown",
      "source": [
        "13.Write a code to find the minimum number in the tuple (10, 20, 5, 15)."
      ],
      "metadata": {
        "id": "Rg7asU2DH4V5"
      }
    },
    {
      "cell_type": "code",
      "source": [
        "my_tuple = (10, 20, 5, 15)\n",
        "min_value = min(my_tuple)\n",
        "print(min_value)"
      ],
      "metadata": {
        "colab": {
          "base_uri": "https://localhost:8080/"
        },
        "id": "7zA58IJNH89Z",
        "outputId": "15c412f3-8967-4bcd-dc60-8084d4db3744"
      },
      "execution_count": 33,
      "outputs": [
        {
          "output_type": "stream",
          "name": "stdout",
          "text": [
            "5\n"
          ]
        }
      ]
    },
    {
      "cell_type": "markdown",
      "source": [
        "14.Write a code to find the index of the element \"cat\" in the tuple ('dog', 'cat', 'rabbit')."
      ],
      "metadata": {
        "id": "DWQ7MUIdITNu"
      }
    },
    {
      "cell_type": "code",
      "source": [
        "my_tuple = ('dog', 'cat', 'rabbit')\n",
        "index_of_cat = my_tuple.index('cat')\n",
        "print(index_of_cat)"
      ],
      "metadata": {
        "colab": {
          "base_uri": "https://localhost:8080/"
        },
        "id": "-gpqcw0jIWtY",
        "outputId": "a7ed4ecd-1d6e-4d6e-8dd0-869e1930fee6"
      },
      "execution_count": 39,
      "outputs": [
        {
          "output_type": "stream",
          "name": "stdout",
          "text": [
            "1\n"
          ]
        }
      ]
    },
    {
      "cell_type": "markdown",
      "source": [
        "15. Write a code to create a tuple containing three different fruits and check if \"kiwi\" is in it."
      ],
      "metadata": {
        "id": "k094ZJZpIryc"
      }
    },
    {
      "cell_type": "code",
      "source": [
        "fruits = (\"apple\", \"banana\", \"cherry\")\n",
        "\n",
        "if \"kiwi\" in fruits:\n",
        "  print(\"kiwi is in the tuple\")\n",
        "else:\n",
        "  print(\"kiwi is not in the tuple\")"
      ],
      "metadata": {
        "colab": {
          "base_uri": "https://localhost:8080/"
        },
        "id": "DbL1SPNlIvro",
        "outputId": "700915bb-0c32-4241-c759-6d0c8079aa67"
      },
      "execution_count": 40,
      "outputs": [
        {
          "output_type": "stream",
          "name": "stdout",
          "text": [
            "kiwi is not in the tuple\n"
          ]
        }
      ]
    },
    {
      "cell_type": "markdown",
      "source": [
        "16.Write a code to create a set with the elements 'a', 'b', 'c' and print it."
      ],
      "metadata": {
        "id": "Zx_WksUkJHqE"
      }
    },
    {
      "cell_type": "code",
      "source": [
        "Input = ['a', 'b', 'c']\n",
        "\n",
        "my_set = set(Input)\n",
        "\n",
        "print(my_set)"
      ],
      "metadata": {
        "colab": {
          "base_uri": "https://localhost:8080/"
        },
        "id": "7b_ynuRFJMbL",
        "outputId": "2e68ed19-2725-45ab-9dc9-8ef9f1291924"
      },
      "execution_count": 43,
      "outputs": [
        {
          "output_type": "stream",
          "name": "stdout",
          "text": [
            "{'b', 'c', 'a'}\n"
          ]
        }
      ]
    },
    {
      "cell_type": "markdown",
      "source": [
        "17.Write a code to clear all elements from the set {1, 2, 3, 4, 5}."
      ],
      "metadata": {
        "id": "VvExsINSJZVs"
      }
    },
    {
      "cell_type": "code",
      "source": [
        "Input = {1, 2, 3, 4, 5}\n",
        "\n",
        "Input.clear()\n",
        "\n",
        "print(Input)"
      ],
      "metadata": {
        "colab": {
          "base_uri": "https://localhost:8080/"
        },
        "id": "zj5J0oNaJdz5",
        "outputId": "b2d08910-12ea-4fd7-d9a4-afe52c8e9390"
      },
      "execution_count": 44,
      "outputs": [
        {
          "output_type": "stream",
          "name": "stdout",
          "text": [
            "set()\n"
          ]
        }
      ]
    },
    {
      "cell_type": "markdown",
      "source": [
        "18. Write a code to remove the element 4 from the set {1, 2, 3, 4}."
      ],
      "metadata": {
        "id": "6iQg8DieJjLT"
      }
    },
    {
      "cell_type": "code",
      "source": [
        "Input = {1, 2, 3, 4}\n",
        "\n",
        "Input.remove(4)\n",
        "\n",
        "print(Input)"
      ],
      "metadata": {
        "colab": {
          "base_uri": "https://localhost:8080/"
        },
        "id": "UZJU1xwwJmaD",
        "outputId": "f15c0389-12b5-44c4-aa3e-4a6c34900a8d"
      },
      "execution_count": 45,
      "outputs": [
        {
          "output_type": "stream",
          "name": "stdout",
          "text": [
            "{1, 2, 3}\n"
          ]
        }
      ]
    },
    {
      "cell_type": "markdown",
      "source": [
        "19. Write a code to find the union of two sets {1, 2, 3} and {3, 4, 5}."
      ],
      "metadata": {
        "id": "kJFcrWhDJrQ-"
      }
    },
    {
      "cell_type": "code",
      "source": [
        "Input1 = {1, 2, 3}\n",
        "\n",
        "Input2 = {3, 4, 5}\n",
        "\n",
        "result = Input1.union(Input2)\n",
        "\n",
        "print(result)"
      ],
      "metadata": {
        "colab": {
          "base_uri": "https://localhost:8080/"
        },
        "id": "9QthHuANJvFs",
        "outputId": "c05303a3-77e3-4bef-9938-e293e0cd8d0a"
      },
      "execution_count": 47,
      "outputs": [
        {
          "output_type": "stream",
          "name": "stdout",
          "text": [
            "{1, 2, 3, 4, 5}\n"
          ]
        }
      ]
    },
    {
      "cell_type": "markdown",
      "source": [
        "20.Write a code to find the intersection of two sets {1, 2, 3} and {2, 3, 4}."
      ],
      "metadata": {
        "id": "Tqwb6-9QJ_-C"
      }
    },
    {
      "cell_type": "code",
      "source": [
        "Input1 = [1,2,3]\n",
        "\n",
        "Input2 = [2,3,4]\n",
        "\n",
        "result = list(set(Input1) & set(Input2))\n",
        "\n",
        "print(result)"
      ],
      "metadata": {
        "colab": {
          "base_uri": "https://localhost:8080/"
        },
        "id": "3yLAV74XKGy8",
        "outputId": "35bd588b-96fc-4261-c38f-526c41cc0c8f"
      },
      "execution_count": 48,
      "outputs": [
        {
          "output_type": "stream",
          "name": "stdout",
          "text": [
            "[2, 3]\n"
          ]
        }
      ]
    },
    {
      "cell_type": "markdown",
      "source": [
        "21. Write a code to create a dictionary with the keys \"name\", \"age\", and \"city\", and print it."
      ],
      "metadata": {
        "id": "lOMZepF3K4gV"
      }
    },
    {
      "cell_type": "code",
      "source": [
        "sample_dict = {'name': 'Likith', 'age': 28, 'city': 'Bengaluru'}\n",
        "\n",
        "keys_list = list(sample_dict.keys())\n",
        "print(keys_list)\n"
      ],
      "metadata": {
        "colab": {
          "base_uri": "https://localhost:8080/"
        },
        "id": "PWV-qu5LLA0S",
        "outputId": "856b6ff0-9ea0-4f88-d766-086401a072d7"
      },
      "execution_count": 52,
      "outputs": [
        {
          "output_type": "stream",
          "name": "stdout",
          "text": [
            "['name', 'age', 'city']\n"
          ]
        }
      ]
    },
    {
      "cell_type": "markdown",
      "source": [
        "22.. Write a code to add a new key-value pair \"country\": \"USA\" to the dictionary {'name': 'John', 'age': 25}."
      ],
      "metadata": {
        "id": "PXakuOuVMIO0"
      }
    },
    {
      "cell_type": "code",
      "source": [
        "my_dict = {'name': 'John', 'age': 25}\n",
        "\n",
        "my_dict['country'] = 'USA'\n",
        "\n",
        "print(my_dict)"
      ],
      "metadata": {
        "colab": {
          "base_uri": "https://localhost:8080/"
        },
        "id": "zJ-E2ry6MRE2",
        "outputId": "30957b5c-ff53-4281-fe4d-0705e8cd0b39"
      },
      "execution_count": 53,
      "outputs": [
        {
          "output_type": "stream",
          "name": "stdout",
          "text": [
            "{'name': 'John', 'age': 25, 'country': 'USA'}\n"
          ]
        }
      ]
    },
    {
      "cell_type": "markdown",
      "source": [
        "23. Write a code to access the value associated with the key \"name\" in the dictionary {'name': 'Alice', 'age': 3"
      ],
      "metadata": {
        "id": "JwU-DWMDMjb_"
      }
    },
    {
      "cell_type": "code",
      "source": [
        "Input = {'name': 'Alice', 'age': 30}\n",
        "\n",
        "value_of_name = Input['name']\n",
        "\n",
        "print(value_of_name)"
      ],
      "metadata": {
        "colab": {
          "base_uri": "https://localhost:8080/"
        },
        "id": "6dPdr5zvMrJ6",
        "outputId": "a6e445c5-aea7-4b80-b2fa-5a118e489888"
      },
      "execution_count": 54,
      "outputs": [
        {
          "output_type": "stream",
          "name": "stdout",
          "text": [
            "Alice\n"
          ]
        }
      ]
    },
    {
      "cell_type": "markdown",
      "source": [
        "24.Write a code to remove the key \"age\" from the dictionary {'name': 'Bob', 'age': 22, 'city': 'New York'}."
      ],
      "metadata": {
        "id": "3rKsJMSpM5rP"
      }
    },
    {
      "cell_type": "code",
      "source": [
        "Input = {'name': 'Bob', 'age': 22, 'city': 'New York'}\n",
        "\n",
        "del Input['age']\n",
        "\n",
        "print(Input)"
      ],
      "metadata": {
        "colab": {
          "base_uri": "https://localhost:8080/"
        },
        "id": "1bbR-kkuNH7l",
        "outputId": "e70691e0-22fe-4298-e560-0e4e1e76bbae"
      },
      "execution_count": 55,
      "outputs": [
        {
          "output_type": "stream",
          "name": "stdout",
          "text": [
            "{'name': 'Bob', 'city': 'New York'}\n"
          ]
        }
      ]
    },
    {
      "cell_type": "markdown",
      "source": [
        "25. Write a code to check if the key \"city\" exists in the dictionary {'name': 'Alice', 'city': 'Paris'}."
      ],
      "metadata": {
        "id": "JacDkK5kNM1p"
      }
    },
    {
      "cell_type": "code",
      "source": [
        "Input = {'name': 'Alice', 'city': 'Paris'}\n",
        "\n",
        "if 'city' in Input:\n",
        "  print(\"The key 'city' exists in the dictionary.\")\n",
        "else:\n",
        "  print(\"The key 'city' does not exist in the dictionary.\")"
      ],
      "metadata": {
        "colab": {
          "base_uri": "https://localhost:8080/"
        },
        "id": "IphiGKfdNR6D",
        "outputId": "5bd4c2b1-fbb0-4c59-9241-4fa7e6c4912c"
      },
      "execution_count": 56,
      "outputs": [
        {
          "output_type": "stream",
          "name": "stdout",
          "text": [
            "The key 'city' exists in the dictionary.\n"
          ]
        }
      ]
    },
    {
      "cell_type": "markdown",
      "source": [
        "26.Write a code to create a list, a tuple, and a dictionary, and print them all."
      ],
      "metadata": {
        "id": "R7BJ8ZVqNj37"
      }
    },
    {
      "cell_type": "code",
      "source": [
        "List = ['Likith', 'Kumar']\n",
        "Tuple = ('Likith', 'Kumar')\n",
        "Dictionary = {'name': 'Likith', 'age': '28'}\n",
        "\n",
        "print(List)\n",
        "print(Tuple)\n",
        "print(Dictionary)\n",
        "\n"
      ],
      "metadata": {
        "colab": {
          "base_uri": "https://localhost:8080/"
        },
        "id": "haoiM-QzNtj4",
        "outputId": "71ae195c-8dac-410f-82fa-ce45bfda49aa"
      },
      "execution_count": 64,
      "outputs": [
        {
          "output_type": "stream",
          "name": "stdout",
          "text": [
            "['Likith', 'Kumar']\n",
            "('Likith', 'Kumar')\n",
            "{'name': 'Likith', 'age': '28'}\n"
          ]
        }
      ]
    },
    {
      "cell_type": "markdown",
      "source": [
        "27. Write a code to create a list of 5 random numbers between 1 and 100, sort it in ascending order, and print the\n",
        "result.(replaced)"
      ],
      "metadata": {
        "id": "XCp3Kr3uQgYA"
      }
    },
    {
      "cell_type": "code",
      "source": [
        "Input = [5, 28, 88, 18, 69]\n",
        "\n",
        "Input.sort()\n",
        "\n",
        "print(Input)\n",
        "\n",
        "\n"
      ],
      "metadata": {
        "colab": {
          "base_uri": "https://localhost:8080/"
        },
        "id": "NrWD930qQlly",
        "outputId": "842d15d7-ab62-4b4b-d873-088513e4f99e"
      },
      "execution_count": 68,
      "outputs": [
        {
          "output_type": "stream",
          "name": "stdout",
          "text": [
            "[5, 18, 28, 69, 88]\n"
          ]
        }
      ]
    },
    {
      "cell_type": "markdown",
      "source": [
        "28. Write a code to create a list with strings and print the element at the third index."
      ],
      "metadata": {
        "id": "yVCPal2gSJ9-"
      }
    },
    {
      "cell_type": "code",
      "source": [
        "my_list = [\"A\",\"B\",\"C\", \"D\", \"E\",\"F\"]\n",
        "\n",
        "print(my_list[2])"
      ],
      "metadata": {
        "colab": {
          "base_uri": "https://localhost:8080/"
        },
        "id": "RSxzdHSnSQ4X",
        "outputId": "b0f63fa5-93cc-4e8e-ed79-4a5bba913106"
      },
      "execution_count": 79,
      "outputs": [
        {
          "output_type": "stream",
          "name": "stdout",
          "text": [
            "C\n"
          ]
        }
      ]
    },
    {
      "cell_type": "markdown",
      "source": [
        "29.Write a code to combine two dictionaries into one and print the result."
      ],
      "metadata": {
        "id": "vcjJTpfkUh1E"
      }
    },
    {
      "cell_type": "code",
      "source": [
        "Input1 = {'name': 'Likith', 'age': 28}\n",
        "Input2 = {'city': 'Bengaluru', 'country': 'India'}\n",
        "\n",
        "combined_Input = {**Input1, **Input2}\n",
        "\n",
        "print(combined_Input)"
      ],
      "metadata": {
        "colab": {
          "base_uri": "https://localhost:8080/"
        },
        "id": "hKmbQIsTUsY_",
        "outputId": "84acd9ec-1cda-47cc-dfa3-4fa97df971fd"
      },
      "execution_count": 89,
      "outputs": [
        {
          "output_type": "stream",
          "name": "stdout",
          "text": [
            "{'name': 'Likith', 'age': 28, 'city': 'Bengaluru', 'country': 'India'}\n"
          ]
        }
      ]
    },
    {
      "cell_type": "markdown",
      "source": [
        "30.Write a code to convert a list of strings into a set."
      ],
      "metadata": {
        "id": "HEc08WcKUnE9"
      }
    },
    {
      "cell_type": "code",
      "source": [
        "G = \"LIKITH\"\n",
        "\n",
        "print(type(G))\n",
        "print(G)\n",
        "\n",
        "# Convert String to Set\n",
        "set_G = set(G)\n",
        "\n",
        "print(type(set_G))\n",
        "print(set_G)"
      ],
      "metadata": {
        "colab": {
          "base_uri": "https://localhost:8080/"
        },
        "id": "AGm7UaBCUl-H",
        "outputId": "9ef0c934-eaba-4cb9-bb51-4b7f0b7d238e"
      },
      "execution_count": 85,
      "outputs": [
        {
          "output_type": "stream",
          "name": "stdout",
          "text": [
            "<class 'str'>\n",
            "LIKITH\n",
            "<class 'set'>\n",
            "{'L', 'I', 'H', 'T', 'K'}\n"
          ]
        }
      ]
    }
  ]
}